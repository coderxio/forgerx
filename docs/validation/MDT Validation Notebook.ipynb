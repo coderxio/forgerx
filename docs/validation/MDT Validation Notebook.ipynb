{
    "metadata": {
        "kernelspec": {
            "name": "python3",
            "display_name": "Python 3",
            "language": "python"
        },
        "language_info": {
            "name": "python",
            "version": "3.8.5",
            "mimetype": "text/x-python",
            "codemirror_mode": {
                "name": "ipython",
                "version": 3
            },
            "pygments_lexer": "ipython3",
            "nbconvert_exporter": "python",
            "file_extension": ".py"
        }
    },
    "nbformat_minor": 2,
    "nbformat": 4,
    "cells": [
        {
            "cell_type": "markdown",
            "source": [
                "# MDT Validation Notebook\r\n",
                "\r\n",
                "Validated on Synthea +MDT population vs MEPS for Pediatric Asthma"
            ],
            "metadata": {}
        },
        {
            "cell_type": "code",
            "execution_count": 29,
            "source": [
                "import pandas as pd\r\n",
                "import datetime as dt\r\n",
                "import numpy as np\r\n",
                "from scipy.stats import chi2_contingency"
            ],
            "outputs": [],
            "metadata": {
                "azdata_cell_guid": "6f5d30fc-eda6-4936-aa53-270406aff005"
            }
        },
        {
            "cell_type": "markdown",
            "source": [
                "# Grab medication RXCUI of interest\r\n",
                "\r\n",
                "Grabs the MEPS product RXCUI lists for filtering of Synthea to medications of interest. \r\n",
                "Path to this will be MDT module - log - rxcui_ndc_df_output.csv"
            ],
            "metadata": {}
        },
        {
            "cell_type": "code",
            "execution_count": 113,
            "source": [
                "rxcui_df = pd.read_csv(r\"\") # MDT produced medication list\r\n",
                "rxcui_df = rxcui_df[['medication_product_name','medication_product_rxcui']].drop_duplicates()\r\n",
                "rxcui_df['medication_product_rxcui'] = rxcui_df['medication_product_rxcui'].astype(int)"
            ],
            "outputs": [],
            "metadata": {
                "azdata_cell_guid": "055a6ba7-8ac6-45d7-abd9-928e4631e876"
            }
        },
        {
            "cell_type": "markdown",
            "source": [
                "# Read Synthea Population\r\n",
                "Reads Synthea Medication file and filters on medications of interest\r\n",
                "\r\n",
                "The path for this will be synthea -> output -> csv -> medications.csv "
            ],
            "metadata": {}
        },
        {
            "cell_type": "code",
            "execution_count": 115,
            "source": [
                "col_list = ['START','PATIENT','CODE']\r\n",
                "\r\n",
                "syn_med_df = pd.DataFrame(columns = ['START','PATIENT','CODE','medication_product_rxcui','medication_product_name'])\r\n",
                "\r\n",
                "for x in pd.read_csv(r\"\", usecols=col_list, chunksize=100000):\r\n",
                "    x['CODE'] = x['CODE'].astype(int)\r\n",
                "    temp_df = x.merge(rxcui_df, how=\"inner\", left_on='CODE', right_on='medication_product_rxcui')\r\n",
                "    syn_med_df = syn_med_df.append(temp_df)"
            ],
            "outputs": [],
            "metadata": {
                "azdata_cell_guid": "689fcd9a-79be-41df-8c5b-213689388e2c",
                "tags": []
            }
        },
        {
            "cell_type": "markdown",
            "source": [
                "# Synthea Patient Population Filtering\r\n",
                "\r\n",
                "Reads and merges Synthea patient data to allow for patient management.\r\n",
                "The path for this will be synthea -> output -> csv -> patients.csv\r\n",
                "\r\n",
                "This step can be skipped if not filtering by patient. For the pediatic use case we limited to patients who received medications when they were < 6 years of age"
            ],
            "metadata": {}
        },
        {
            "cell_type": "code",
            "execution_count": 76,
            "source": [
                "syn_pat_df = pd.read_csv(r\"\")\r\n",
                "syn_pat_df = syn_pat_df.merge(syn_med_df, how='inner', left_on='Id', right_on='PATIENT')\r\n",
                "\r\n",
                "syn_pat_df['START'] = pd.to_datetime(syn_pat_df['START']).dt.date\r\n",
                "syn_pat_df['BIRTHDATE'] = pd.to_datetime(syn_pat_df['BIRTHDATE']).dt.date\r\n",
                "syn_pat_df['age_in_days'] = (syn_pat_df['START'] - syn_pat_df['BIRTHDATE']).dt.days\r\n",
                "\r\n",
                "syn_med_df = syn_pat_df[syn_pat_df['age_in_days'] < 2191]"
            ],
            "outputs": [],
            "metadata": {
                "azdata_cell_guid": "6b4f7a19-1e25-4eff-a5a2-9dbc7053cfaf"
            }
        },
        {
            "cell_type": "markdown",
            "source": [
                "# Synthea distributions\r\n",
                "Gets total patient counts and medication distributions from Synthea population"
            ],
            "metadata": {}
        },
        {
            "cell_type": "code",
            "execution_count": 116,
            "source": [
                "syn_med_df = syn_med_df.groupby(['medication_product_name']).agg(patient_count=('CODE','count')).reset_index()\r\n",
                "total_patients = syn_med_df['patient_count'].sum()\r\n",
                "syn_med_df['percent'] = syn_med_df['patient_count']/total_patients\r\n",
                "syn_med_df"
            ],
            "outputs": [
                {
                    "output_type": "execute_result",
                    "data": {
                        "text/plain": [
                            "                             medication_product_name  patient_count   percent\n",
                            "0  120 ACTUAT fluticasone propionate 0.044 MG/ACT...           2378  0.341618\n",
                            "1  120 ACTUAT fluticasone propionate 0.11 MG/ACTU...           1070  0.153714\n",
                            "2  Breath-Actuated 120 ACTUAT beclomethasone dipr...            203  0.029162\n",
                            "3       budesonide 0.125 MG/ML Inhalation Suspension            977  0.140353\n",
                            "4  budesonide 0.125 MG/ML Inhalation Suspension [...            513  0.073696\n",
                            "5        budesonide 0.25 MG/ML Inhalation Suspension           1819  0.261313\n",
                            "6         budesonide 0.5 MG/ML Inhalation Suspension              1  0.000144"
                        ],
                        "text/html": [
                            "<div>\n",
                            "<style scoped>\n",
                            "    .dataframe tbody tr th:only-of-type {\n",
                            "        vertical-align: middle;\n",
                            "    }\n",
                            "\n",
                            "    .dataframe tbody tr th {\n",
                            "        vertical-align: top;\n",
                            "    }\n",
                            "\n",
                            "    .dataframe thead th {\n",
                            "        text-align: right;\n",
                            "    }\n",
                            "</style>\n",
                            "<table border=\"1\" class=\"dataframe\">\n",
                            "  <thead>\n",
                            "    <tr style=\"text-align: right;\">\n",
                            "      <th></th>\n",
                            "      <th>medication_product_name</th>\n",
                            "      <th>patient_count</th>\n",
                            "      <th>percent</th>\n",
                            "    </tr>\n",
                            "  </thead>\n",
                            "  <tbody>\n",
                            "    <tr>\n",
                            "      <th>0</th>\n",
                            "      <td>120 ACTUAT fluticasone propionate 0.044 MG/ACT...</td>\n",
                            "      <td>2378</td>\n",
                            "      <td>0.341618</td>\n",
                            "    </tr>\n",
                            "    <tr>\n",
                            "      <th>1</th>\n",
                            "      <td>120 ACTUAT fluticasone propionate 0.11 MG/ACTU...</td>\n",
                            "      <td>1070</td>\n",
                            "      <td>0.153714</td>\n",
                            "    </tr>\n",
                            "    <tr>\n",
                            "      <th>2</th>\n",
                            "      <td>Breath-Actuated 120 ACTUAT beclomethasone dipr...</td>\n",
                            "      <td>203</td>\n",
                            "      <td>0.029162</td>\n",
                            "    </tr>\n",
                            "    <tr>\n",
                            "      <th>3</th>\n",
                            "      <td>budesonide 0.125 MG/ML Inhalation Suspension</td>\n",
                            "      <td>977</td>\n",
                            "      <td>0.140353</td>\n",
                            "    </tr>\n",
                            "    <tr>\n",
                            "      <th>4</th>\n",
                            "      <td>budesonide 0.125 MG/ML Inhalation Suspension [...</td>\n",
                            "      <td>513</td>\n",
                            "      <td>0.073696</td>\n",
                            "    </tr>\n",
                            "    <tr>\n",
                            "      <th>5</th>\n",
                            "      <td>budesonide 0.25 MG/ML Inhalation Suspension</td>\n",
                            "      <td>1819</td>\n",
                            "      <td>0.261313</td>\n",
                            "    </tr>\n",
                            "    <tr>\n",
                            "      <th>6</th>\n",
                            "      <td>budesonide 0.5 MG/ML Inhalation Suspension</td>\n",
                            "      <td>1</td>\n",
                            "      <td>0.000144</td>\n",
                            "    </tr>\n",
                            "  </tbody>\n",
                            "</table>\n",
                            "</div>"
                        ]
                    },
                    "metadata": {},
                    "execution_count": 116
                }
            ],
            "metadata": {}
        },
        {
            "cell_type": "markdown",
            "source": [
                "# MEPS Expected\r\n",
                "\r\n",
                "generates the expected MEPS patient counts for chi squared goodness of fit test\r\n",
                "\r\n",
                "Path to file will be in you MDT module - log - validation_df.csv"
            ],
            "metadata": {}
        },
        {
            "cell_type": "code",
            "execution_count": 108,
            "source": [
                "meps_df = pd.read_csv(r\"\")\r\n",
                "meps_df = meps_df[meps_df['age'] == '0-5'][['medication_product_name','validation_percent_product_patients']]\r\n",
                "meps_df['patient_count'] = meps_df['validation_percent_product_patients'] * total_patients\r\n",
                "meps_df['patient_count'] = meps_df['patient_count'].round(0)\r\n",
                "meps_df"
            ],
            "outputs": [
                {
                    "output_type": "execute_result",
                    "data": {
                        "text/plain": [
                            "                              medication_product_name  \\\n",
                            "0   120_Actuat_Fluticasone_Propionate_0_044_Mg_Act...   \n",
                            "1   120_Actuat_Fluticasone_Propionate_0_11_Mg_Actu...   \n",
                            "16       Budesonide_0_125_Mg_Ml_Inhalation_Suspension   \n",
                            "17  Budesonide_0_125_Mg_Ml_Inhalation_Suspension_P...   \n",
                            "18        Budesonide_0_25_Mg_Ml_Inhalation_Suspension   \n",
                            "19  Breath_Actuated_120_Actuat_Beclomethasone_Dipr...   \n",
                            "\n",
                            "    validation_percent_product_patients  patient_count  \n",
                            "0                              0.335052         2332.0  \n",
                            "1                              0.156948         1093.0  \n",
                            "16                             0.140715          980.0  \n",
                            "17                             0.072027          501.0  \n",
                            "18                             0.263781         1836.0  \n",
                            "19                             0.031000          216.0  "
                        ],
                        "text/html": [
                            "<div>\n",
                            "<style scoped>\n",
                            "    .dataframe tbody tr th:only-of-type {\n",
                            "        vertical-align: middle;\n",
                            "    }\n",
                            "\n",
                            "    .dataframe tbody tr th {\n",
                            "        vertical-align: top;\n",
                            "    }\n",
                            "\n",
                            "    .dataframe thead th {\n",
                            "        text-align: right;\n",
                            "    }\n",
                            "</style>\n",
                            "<table border=\"1\" class=\"dataframe\">\n",
                            "  <thead>\n",
                            "    <tr style=\"text-align: right;\">\n",
                            "      <th></th>\n",
                            "      <th>medication_product_name</th>\n",
                            "      <th>validation_percent_product_patients</th>\n",
                            "      <th>patient_count</th>\n",
                            "    </tr>\n",
                            "  </thead>\n",
                            "  <tbody>\n",
                            "    <tr>\n",
                            "      <th>0</th>\n",
                            "      <td>120_Actuat_Fluticasone_Propionate_0_044_Mg_Act...</td>\n",
                            "      <td>0.335052</td>\n",
                            "      <td>2332.0</td>\n",
                            "    </tr>\n",
                            "    <tr>\n",
                            "      <th>1</th>\n",
                            "      <td>120_Actuat_Fluticasone_Propionate_0_11_Mg_Actu...</td>\n",
                            "      <td>0.156948</td>\n",
                            "      <td>1093.0</td>\n",
                            "    </tr>\n",
                            "    <tr>\n",
                            "      <th>16</th>\n",
                            "      <td>Budesonide_0_125_Mg_Ml_Inhalation_Suspension</td>\n",
                            "      <td>0.140715</td>\n",
                            "      <td>980.0</td>\n",
                            "    </tr>\n",
                            "    <tr>\n",
                            "      <th>17</th>\n",
                            "      <td>Budesonide_0_125_Mg_Ml_Inhalation_Suspension_P...</td>\n",
                            "      <td>0.072027</td>\n",
                            "      <td>501.0</td>\n",
                            "    </tr>\n",
                            "    <tr>\n",
                            "      <th>18</th>\n",
                            "      <td>Budesonide_0_25_Mg_Ml_Inhalation_Suspension</td>\n",
                            "      <td>0.263781</td>\n",
                            "      <td>1836.0</td>\n",
                            "    </tr>\n",
                            "    <tr>\n",
                            "      <th>19</th>\n",
                            "      <td>Breath_Actuated_120_Actuat_Beclomethasone_Dipr...</td>\n",
                            "      <td>0.031000</td>\n",
                            "      <td>216.0</td>\n",
                            "    </tr>\n",
                            "  </tbody>\n",
                            "</table>\n",
                            "</div>"
                        ]
                    },
                    "metadata": {},
                    "execution_count": 108
                }
            ],
            "metadata": {}
        },
        {
            "cell_type": "markdown",
            "source": [
                "# Run Chi Squared\r\n",
                "\r\n",
                "Runs chi squared test for two different populations\r\n",
                "Take the values for patient count from syn_med_df and meps_df for this.\r\n",
                "\r\n",
                "Numbers used are for the pediatric asthma use case of Synthea +MDT vs MEPS"
            ],
            "metadata": {}
        },
        {
            "cell_type": "code",
            "execution_count": 117,
            "source": [
                "obs = np.array([[203, 216],\r\n",
                "                [977, 979],\r\n",
                "                [513, 489],\r\n",
                "                [1819, 1836],\r\n",
                "                [1, 0],\r\n",
                "                [2378, 2332],\r\n",
                "                [1070, 1093]])\r\n",
                "\r\n",
                "\r\n",
                "chi2, p, df, ob = chi2_contingency(obs)\r\n",
                "print(f\"\"\"X2 = {chi2}\r\n",
                "p-value = {p}\r\n",
                "degrees of freedom = {df}\r\n",
                "observatrions = {ob}\"\"\")"
            ],
            "outputs": [
                {
                    "output_type": "stream",
                    "name": "stdout",
                    "text": [
                        "X2 = 2.7347252762386036\n",
                        "p-value = 0.8413287112519282\n",
                        "degrees of freedom = 6\n",
                        "observatrions = [[2.09741047e+02 2.09258953e+02]\n",
                        " [9.79125270e+02 9.76874730e+02]\n",
                        " [5.01576442e+02 5.00423558e+02]\n",
                        " [1.82960269e+03 1.82539731e+03]\n",
                        " [5.00575291e-01 4.99424709e-01]\n",
                        " [2.35770962e+03 2.35229038e+03]\n",
                        " [1.08274435e+03 1.08025565e+03]]\n"
                    ]
                }
            ],
            "metadata": {}
        }
    ]
}